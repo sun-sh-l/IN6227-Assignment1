{
 "cells": [
  {
   "cell_type": "markdown",
   "id": "53e19265-2b83-468f-ba10-ea9f5b36e01e",
   "metadata": {},
   "source": [
    "Decision Tree\n",
    "===="
   ]
  },
  {
   "cell_type": "code",
   "execution_count": 1,
   "id": "a8e6aaca-2fbb-4d41-892e-b3c8e0d93810",
   "metadata": {},
   "outputs": [
    {
     "name": "stdout",
     "output_type": "stream",
     "text": [
      "       age         workclass  fnlwgt   education  education-num  \\\n",
      "0       39         State-gov   77516   Bachelors             13   \n",
      "1       50  Self-emp-not-inc   83311   Bachelors             13   \n",
      "2       38           Private  215646     HS-grad              9   \n",
      "3       53           Private  234721        11th              7   \n",
      "4       28           Private  338409   Bachelors             13   \n",
      "...    ...               ...     ...         ...            ...   \n",
      "32556   27           Private  257302  Assoc-acdm             12   \n",
      "32557   40           Private  154374     HS-grad              9   \n",
      "32558   58           Private  151910     HS-grad              9   \n",
      "32559   22           Private  201490     HS-grad              9   \n",
      "32560   52      Self-emp-inc  287927     HS-grad              9   \n",
      "\n",
      "           marital-status         occupation   relationship   race     sex  \\\n",
      "0           Never-married       Adm-clerical  Not-in-family  White    Male   \n",
      "1      Married-civ-spouse    Exec-managerial        Husband  White    Male   \n",
      "2                Divorced  Handlers-cleaners  Not-in-family  White    Male   \n",
      "3      Married-civ-spouse  Handlers-cleaners        Husband  Black    Male   \n",
      "4      Married-civ-spouse     Prof-specialty           Wife  Black  Female   \n",
      "...                   ...                ...            ...    ...     ...   \n",
      "32556  Married-civ-spouse       Tech-support           Wife  White  Female   \n",
      "32557  Married-civ-spouse  Machine-op-inspct        Husband  White    Male   \n",
      "32558             Widowed       Adm-clerical      Unmarried  White  Female   \n",
      "32559       Never-married       Adm-clerical      Own-child  White    Male   \n",
      "32560  Married-civ-spouse    Exec-managerial           Wife  White  Female   \n",
      "\n",
      "       capital-gain  capital-loss  hours-per-week native-country  label  \n",
      "0              2174             0              40  United-States  <=50K  \n",
      "1                 0             0              13  United-States  <=50K  \n",
      "2                 0             0              40  United-States  <=50K  \n",
      "3                 0             0              40  United-States  <=50K  \n",
      "4                 0             0              40           Cuba  <=50K  \n",
      "...             ...           ...             ...            ...    ...  \n",
      "32556             0             0              38  United-States  <=50K  \n",
      "32557             0             0              40  United-States   >50K  \n",
      "32558             0             0              40  United-States  <=50K  \n",
      "32559             0             0              20  United-States  <=50K  \n",
      "32560         15024             0              40  United-States   >50K  \n",
      "\n",
      "[32561 rows x 15 columns]\n"
     ]
    }
   ],
   "source": [
    "# Import libraries\n",
    "import pandas as pd\n",
    "import numpy as np\n",
    "import matplotlib.pyplot as plt\n",
    "import seaborn as sns\n",
    "import scipy.stats as stats\n",
    "\n",
    "import time\n",
    "import memory_profiler\n",
    "\n",
    "from sklearn.preprocessing import LabelEncoder, StandardScaler\n",
    "from sklearn.model_selection import train_test_split, GridSearchCV\n",
    "from sklearn.tree import DecisionTreeClassifier\n",
    "from sklearn.metrics import accuracy_score, precision_score, recall_score, f1_score, classification_report, confusion_matrix\n",
    "\n",
    "\n",
    "# adding header \n",
    "headerList = ['age', 'workclass', 'fnlwgt', 'education', 'education-num' , 'marital-status','occupation', 'relationship' , 'race', 'sex', 'capital-gain', 'capital-loss', 'hours-per-week', 'native-country','label' ] \n",
    "\n",
    "data=pd.read_csv('adult.data',names=headerList,sep=',',skipinitialspace=True)\n",
    "print(data)"
   ]
  },
  {
   "cell_type": "code",
   "execution_count": null,
   "id": "27d6de70-70e2-4330-b4be-44bc031e729a",
   "metadata": {},
   "outputs": [],
   "source": []
  },
  {
   "cell_type": "markdown",
   "id": "6e789533-3466-4f97-8095-303ecd9b965a",
   "metadata": {},
   "source": [
    "#DATA preprocessing\n",
    "=================================================================================================================================="
   ]
  },
  {
   "cell_type": "code",
   "execution_count": 2,
   "id": "f012e187-8000-40bc-b139-d810166b26e0",
   "metadata": {},
   "outputs": [],
   "source": [
    "#Remove duplicate data \n",
    "data = data.drop_duplicates()"
   ]
  },
  {
   "cell_type": "code",
   "execution_count": 3,
   "id": "505ca16b-3506-44b0-b2f0-6b0a5f28845c",
   "metadata": {},
   "outputs": [],
   "source": [
    "#change value '?' to mode value of that column\n",
    "data[data == '?'] = np.nan\n",
    "colWithMissingVal = ['workclass', 'occupation', 'native-country']\n",
    "\n",
    "for column in colWithMissingVal:\n",
    "    data[column].fillna(data[column].mode()[0], inplace=True)"
   ]
  },
  {
   "cell_type": "code",
   "execution_count": 4,
   "id": "74c06440-220b-47a6-9fd9-59c5b71f3dc8",
   "metadata": {},
   "outputs": [
    {
     "name": "stdout",
     "output_type": "stream",
     "text": [
      "74.0\n"
     ]
    }
   ],
   "source": [
    "#Cap outliers : cap age to 99 percentile\n",
    "p_age = np.percentile(data['age'], 99)\n",
    "print(p_age)\n",
    "\n",
    "data['age'] = np.where(data['age'] > np.percentile(data['age'], 99), np.percentile(data['age'], 99), data['age'])"
   ]
  },
  {
   "cell_type": "code",
   "execution_count": 5,
   "id": "fe13569f-d4b9-4d93-af9c-88011f5a30c5",
   "metadata": {},
   "outputs": [],
   "source": [
    "#Trim outliers: for 'education-num' and 'hours-per-week' column: only keep rows in dataframe with all z-scores less than absolute value of 3 \n",
    "\n",
    "data = data[(np.abs(stats.zscore(data['education-num'])) < 3)]\n",
    "data = data[(np.abs(stats.zscore(data['hours-per-week'])) < 3)]"
   ]
  },
  {
   "cell_type": "code",
   "execution_count": 6,
   "id": "e6873e29-479a-4c92-ba93-54247a1427af",
   "metadata": {},
   "outputs": [],
   "source": [
    "#Convert label(income) column :'<=50K': 0, '>50K': 1}\n",
    "data['label'] = data['label'].map({'<=50K': 0, '>50K': 1})\n",
    "\n",
    "# Convert age and education.num to integer data type\n",
    "data['age'] = data['age'].astype(int)\n",
    "data['education-num'] = data['education-num'].astype(int)\n",
    "data['hours-per-week'] = data['hours-per-week'].astype(int)"
   ]
  },
  {
   "cell_type": "code",
   "execution_count": 7,
   "id": "20d0bc54-d873-4e13-a96c-ff05d69076a6",
   "metadata": {},
   "outputs": [],
   "source": [
    "#for categorical Data, use LabelEncoder to transform these non-numerical labels.\n",
    "categoricalData = ['workclass','marital-status', 'occupation', 'relationship', 'race', 'sex']\n",
    "label_encoder = LabelEncoder()\n",
    "\n",
    "for i in categoricalData:\n",
    "    data[i] = label_encoder.fit_transform(data[i])"
   ]
  },
  {
   "cell_type": "code",
   "execution_count": 8,
   "id": "f10011f7-f583-4093-895a-87b8467623f5",
   "metadata": {},
   "outputs": [],
   "source": [
    "# Separate features (X) and target variable (y)\n",
    "X = data.drop(['label',  'education','native-country'], axis=1)\n",
    "y = data['label']\n",
    "\n",
    "# Split the data into training and testing sets\n",
    "X_train, X_test, y_train, y_test = train_test_split(X, y, test_size=0.2, random_state=42)"
   ]
  },
  {
   "cell_type": "code",
   "execution_count": null,
   "id": "86768725-1f22-4b19-8d26-bbacd4d600f9",
   "metadata": {},
   "outputs": [],
   "source": []
  },
  {
   "cell_type": "markdown",
   "id": "5170d27c-a5d0-445e-9d2b-69d61ff096f1",
   "metadata": {},
   "source": [
    "#Building Decision Tree\n",
    "=="
   ]
  },
  {
   "cell_type": "code",
   "execution_count": 9,
   "id": "12f74462-5787-4501-9b75-6ffe9790bffc",
   "metadata": {},
   "outputs": [
    {
     "name": "stdout",
     "output_type": "stream",
     "text": [
      "peak memory: 211.00 MiB, increment: 0.07 MiB\n",
      "peak memory: 211.00 MiB, increment: 0.00 MiB\n",
      "peak memory: 216.58 MiB, increment: 5.58 MiB\n",
      "peak memory: 214.80 MiB, increment: 0.00 MiB\n",
      "peak memory: 214.80 MiB, increment: 0.00 MiB\n",
      "=======================================================================================\n",
      "Total time taken to tune the hyperparameter: 37.678 seconds\n",
      "Total time taken to train the model: 2.114 seconds\n",
      "Total time taken to build the Decision Tree model: 39.791 seconds\n",
      "Hyperparameter used: {'criterion': 'entropy', 'max_depth': 10, 'min_samples_leaf': 2, 'min_samples_split': 2}\n"
     ]
    }
   ],
   "source": [
    "# Create a Decision Tree Classifier with hyperparameter tuning\n",
    "\n",
    "#load memory_profiler to calculate memory usage\n",
    "%load_ext memory_profiler  \n",
    "#%reload_ext memory_profiler\n",
    "\n",
    "#state parameters grid: input values for each hyperparameter to be test\n",
    "param_grid = {\n",
    "    'criterion': ['gini', 'entropy'],\n",
    "    'max_depth': [None, 10, 20, 30, 40],\n",
    "    'min_samples_split': [2, 5, 10],\n",
    "    'min_samples_leaf': [1, 2, 4]\n",
    "}\n",
    "\n",
    "#=======================================================================================\n",
    "\n",
    "#record start time\n",
    "start_time = time.time()\n",
    "\n",
    "%memit clf = DecisionTreeClassifier(random_state=42)\n",
    "%memit grid_search = GridSearchCV(clf, param_grid, cv=5)\n",
    "%memit grid_search.fit(X_train, y_train)\n",
    "\n",
    "#time taken performing tuning\n",
    "tuning_time = time.time()\n",
    "\n",
    "%memit best_clf = grid_search.best_estimator_\n",
    "%memit best_clf.fit(X_train, y_train)\n",
    "\n",
    "#record end time\n",
    "end_time = time.time()\n",
    "\n",
    "#=======================================================================================\n",
    "\n",
    "total_tuning_time = tuning_time - start_time #Calculate time for hyperparameter tuning\n",
    "model_training_time = end_time - tuning_time #Calculate time for train the model \n",
    "total_time = end_time - start_time  # Calculate total time\n",
    "\n",
    "print('=======================================================================================')\n",
    "print(\"Total time taken to tune the hyperparameter: {:0.3f} seconds\".format(total_tuning_time))\n",
    "print(\"Total time taken to train the model: {:0.3f} seconds\".format(model_training_time))\n",
    "print(\"Total time taken to build the Decision Tree model: {:0.3f} seconds\".format(total_time))\n",
    "\n",
    "print(\"Hyperparameter used: {}\".format(grid_search.best_params_))\n"
   ]
  },
  {
   "cell_type": "code",
   "execution_count": 10,
   "id": "0195f931-01b1-4b15-bbb5-306a171096ee",
   "metadata": {},
   "outputs": [
    {
     "data": {
      "text/plain": [
       "(0.8474204171240395,\n",
       " 0.7065693430656934,\n",
       " 0.6289798570500325,\n",
       " 0.6655207975249225)"
      ]
     },
     "execution_count": 10,
     "metadata": {},
     "output_type": "execute_result"
    }
   ],
   "source": [
    "y_pred = best_clf.predict(X_test)\n",
    "\n",
    "# Evaluate the model\n",
    "accuracy = accuracy_score(y_test, y_pred)\n",
    "precision = precision_score(y_test, y_pred)\n",
    "recall = recall_score(y_test, y_pred)\n",
    "f1 = f1_score(y_test, y_pred)\n",
    "\n",
    "accuracy, precision, recall, f1"
   ]
  },
  {
   "cell_type": "code",
   "execution_count": 11,
   "id": "1111acf5-131b-4339-9802-39e75e4847cd",
   "metadata": {},
   "outputs": [
    {
     "name": "stdout",
     "output_type": "stream",
     "text": [
      "Classification Report:\n",
      "              precision    recall  f1-score   support\n",
      "\n",
      "           0       0.89      0.92      0.90      4838\n",
      "           1       0.71      0.63      0.67      1539\n",
      "\n",
      "    accuracy                           0.85      6377\n",
      "   macro avg       0.80      0.77      0.78      6377\n",
      "weighted avg       0.84      0.85      0.84      6377\n",
      "\n"
     ]
    }
   ],
   "source": [
    "# Print classification report and confusion matrix\n",
    "print(\"Classification Report:\")\n",
    "print(classification_report(y_test, y_pred))"
   ]
  },
  {
   "cell_type": "code",
   "execution_count": null,
   "id": "be7eaa80-4f47-4590-93a2-1dac49082fb9",
   "metadata": {},
   "outputs": [],
   "source": []
  },
  {
   "cell_type": "markdown",
   "id": "9a3427c4-f26f-43d9-94f7-870e4246d4c8",
   "metadata": {},
   "source": [
    "#Test using adult.test dataset\n",
    "="
   ]
  },
  {
   "cell_type": "code",
   "execution_count": 12,
   "id": "8a128f76-f742-48d6-ae0d-162ae770db1f",
   "metadata": {},
   "outputs": [
    {
     "name": "stdout",
     "output_type": "stream",
     "text": [
      "                        age     workclass    fnlwgt     education  \\\n",
      "0      |1x3 Cross validator           NaN       NaN           NaN   \n",
      "1                        25       Private  226802.0          11th   \n",
      "2                        38       Private   89814.0       HS-grad   \n",
      "3                        28     Local-gov  336951.0    Assoc-acdm   \n",
      "4                        44       Private  160323.0  Some-college   \n",
      "...                     ...           ...       ...           ...   \n",
      "16277                    39       Private  215419.0     Bachelors   \n",
      "16278                    64             ?  321403.0       HS-grad   \n",
      "16279                    38       Private  374983.0     Bachelors   \n",
      "16280                    44       Private   83891.0     Bachelors   \n",
      "16281                    35  Self-emp-inc  182148.0     Bachelors   \n",
      "\n",
      "       education-num      marital-status         occupation    relationship  \\\n",
      "0                NaN                 NaN                NaN             NaN   \n",
      "1                7.0       Never-married  Machine-op-inspct       Own-child   \n",
      "2                9.0  Married-civ-spouse    Farming-fishing         Husband   \n",
      "3               12.0  Married-civ-spouse    Protective-serv         Husband   \n",
      "4               10.0  Married-civ-spouse  Machine-op-inspct         Husband   \n",
      "...              ...                 ...                ...             ...   \n",
      "16277           13.0            Divorced     Prof-specialty   Not-in-family   \n",
      "16278            9.0             Widowed                  ?  Other-relative   \n",
      "16279           13.0  Married-civ-spouse     Prof-specialty         Husband   \n",
      "16280           13.0            Divorced       Adm-clerical       Own-child   \n",
      "16281           13.0  Married-civ-spouse    Exec-managerial         Husband   \n",
      "\n",
      "                     race     sex  capital-gain  capital-loss  hours-per-week  \\\n",
      "0                     NaN     NaN           NaN           NaN             NaN   \n",
      "1                   Black    Male           0.0           0.0            40.0   \n",
      "2                   White    Male           0.0           0.0            50.0   \n",
      "3                   White    Male           0.0           0.0            40.0   \n",
      "4                   Black    Male        7688.0           0.0            40.0   \n",
      "...                   ...     ...           ...           ...             ...   \n",
      "16277               White  Female           0.0           0.0            36.0   \n",
      "16278               Black    Male           0.0           0.0            40.0   \n",
      "16279               White    Male           0.0           0.0            50.0   \n",
      "16280  Asian-Pac-Islander    Male        5455.0           0.0            40.0   \n",
      "16281               White    Male           0.0           0.0            60.0   \n",
      "\n",
      "      native-country   label  \n",
      "0                NaN     NaN  \n",
      "1      United-States  <=50K.  \n",
      "2      United-States  <=50K.  \n",
      "3      United-States   >50K.  \n",
      "4      United-States   >50K.  \n",
      "...              ...     ...  \n",
      "16277  United-States  <=50K.  \n",
      "16278  United-States  <=50K.  \n",
      "16279  United-States  <=50K.  \n",
      "16280  United-States  <=50K.  \n",
      "16281  United-States   >50K.  \n",
      "\n",
      "[16282 rows x 15 columns]\n",
      "      age     workclass    fnlwgt     education  education-num  \\\n",
      "1      25       Private  226802.0          11th            7.0   \n",
      "2      38       Private   89814.0       HS-grad            9.0   \n",
      "3      28     Local-gov  336951.0    Assoc-acdm           12.0   \n",
      "4      44       Private  160323.0  Some-college           10.0   \n",
      "5      18             ?  103497.0  Some-college           10.0   \n",
      "...    ..           ...       ...           ...            ...   \n",
      "16277  39       Private  215419.0     Bachelors           13.0   \n",
      "16278  64             ?  321403.0       HS-grad            9.0   \n",
      "16279  38       Private  374983.0     Bachelors           13.0   \n",
      "16280  44       Private   83891.0     Bachelors           13.0   \n",
      "16281  35  Self-emp-inc  182148.0     Bachelors           13.0   \n",
      "\n",
      "           marital-status         occupation    relationship  \\\n",
      "1           Never-married  Machine-op-inspct       Own-child   \n",
      "2      Married-civ-spouse    Farming-fishing         Husband   \n",
      "3      Married-civ-spouse    Protective-serv         Husband   \n",
      "4      Married-civ-spouse  Machine-op-inspct         Husband   \n",
      "5           Never-married                  ?       Own-child   \n",
      "...                   ...                ...             ...   \n",
      "16277            Divorced     Prof-specialty   Not-in-family   \n",
      "16278             Widowed                  ?  Other-relative   \n",
      "16279  Married-civ-spouse     Prof-specialty         Husband   \n",
      "16280            Divorced       Adm-clerical       Own-child   \n",
      "16281  Married-civ-spouse    Exec-managerial         Husband   \n",
      "\n",
      "                     race     sex  capital-gain  capital-loss  hours-per-week  \\\n",
      "1                   Black    Male           0.0           0.0            40.0   \n",
      "2                   White    Male           0.0           0.0            50.0   \n",
      "3                   White    Male           0.0           0.0            40.0   \n",
      "4                   Black    Male        7688.0           0.0            40.0   \n",
      "5                   White  Female           0.0           0.0            30.0   \n",
      "...                   ...     ...           ...           ...             ...   \n",
      "16277               White  Female           0.0           0.0            36.0   \n",
      "16278               Black    Male           0.0           0.0            40.0   \n",
      "16279               White    Male           0.0           0.0            50.0   \n",
      "16280  Asian-Pac-Islander    Male        5455.0           0.0            40.0   \n",
      "16281               White    Male           0.0           0.0            60.0   \n",
      "\n",
      "      native-country   label  \n",
      "1      United-States  <=50K.  \n",
      "2      United-States  <=50K.  \n",
      "3      United-States   >50K.  \n",
      "4      United-States   >50K.  \n",
      "5      United-States  <=50K.  \n",
      "...              ...     ...  \n",
      "16277  United-States  <=50K.  \n",
      "16278  United-States  <=50K.  \n",
      "16279  United-States  <=50K.  \n",
      "16280  United-States  <=50K.  \n",
      "16281  United-States   >50K.  \n",
      "\n",
      "[16281 rows x 15 columns]\n"
     ]
    }
   ],
   "source": [
    "testData=pd.read_csv('adult.test',names=headerList,sep=',',skipinitialspace=True)\n",
    "#testData.info()\n",
    "print(testData)\n",
    "\n",
    "testData = testData.iloc[1: , :]\n",
    "print(testData)"
   ]
  },
  {
   "cell_type": "code",
   "execution_count": 13,
   "id": "4dae98c1-f482-4a76-84bc-5d21a90221db",
   "metadata": {},
   "outputs": [],
   "source": [
    "testData['label'] = testData['label'].map({'<=50K.': 0, '>50K.': 1})\n",
    "\n",
    "# Convert age and education.num to integer data type\n",
    "testData['age'] = testData['age'].astype(int)\n",
    "testData['education-num'] = testData['education-num'].astype(int)\n",
    "testData['hours-per-week'] = testData['hours-per-week'].astype(int)"
   ]
  },
  {
   "cell_type": "code",
   "execution_count": 14,
   "id": "e869cb5e-f39d-4982-9eb9-57d3204c3b10",
   "metadata": {},
   "outputs": [
    {
     "name": "stdout",
     "output_type": "stream",
     "text": [
      "       age  workclass    fnlwgt     education  education-num  marital-status  \\\n",
      "1       25          4  226802.0          11th              7               4   \n",
      "2       38          4   89814.0       HS-grad              9               2   \n",
      "3       28          2  336951.0    Assoc-acdm             12               2   \n",
      "4       44          4  160323.0  Some-college             10               2   \n",
      "5       18          0  103497.0  Some-college             10               4   \n",
      "...    ...        ...       ...           ...            ...             ...   \n",
      "16277   39          4  215419.0     Bachelors             13               0   \n",
      "16278   64          0  321403.0       HS-grad              9               6   \n",
      "16279   38          4  374983.0     Bachelors             13               2   \n",
      "16280   44          4   83891.0     Bachelors             13               0   \n",
      "16281   35          5  182148.0     Bachelors             13               2   \n",
      "\n",
      "       occupation  relationship  race  sex  capital-gain  capital-loss  \\\n",
      "1               7             3     2    1           0.0           0.0   \n",
      "2               5             0     4    1           0.0           0.0   \n",
      "3              11             0     4    1           0.0           0.0   \n",
      "4               7             0     2    1        7688.0           0.0   \n",
      "5               0             3     4    0           0.0           0.0   \n",
      "...           ...           ...   ...  ...           ...           ...   \n",
      "16277          10             1     4    0           0.0           0.0   \n",
      "16278           0             2     2    1           0.0           0.0   \n",
      "16279          10             0     4    1           0.0           0.0   \n",
      "16280           1             3     1    1        5455.0           0.0   \n",
      "16281           4             0     4    1           0.0           0.0   \n",
      "\n",
      "       hours-per-week native-country  label  \n",
      "1                  40  United-States      0  \n",
      "2                  50  United-States      0  \n",
      "3                  40  United-States      1  \n",
      "4                  40  United-States      1  \n",
      "5                  30  United-States      0  \n",
      "...               ...            ...    ...  \n",
      "16277              36  United-States      0  \n",
      "16278              40  United-States      0  \n",
      "16279              50  United-States      0  \n",
      "16280              40  United-States      0  \n",
      "16281              60  United-States      1  \n",
      "\n",
      "[16281 rows x 15 columns]\n"
     ]
    }
   ],
   "source": [
    "categoricalData = ['workclass','marital-status', 'occupation', 'relationship', 'race', 'sex']\n",
    "label_encoder = LabelEncoder()\n",
    "\n",
    "for i in categoricalData:\n",
    "    testData[i] = label_encoder.fit_transform(testData[i])\n",
    "\n",
    "print(testData)"
   ]
  },
  {
   "cell_type": "code",
   "execution_count": 15,
   "id": "91284d69-e89b-40a5-8721-d8696550c882",
   "metadata": {},
   "outputs": [],
   "source": [
    "# Select features of test set\n",
    "test_dataset_log = testData.drop(['label', 'education', 'native-country'], axis=1)\n",
    "test_dataset_result = testData['label']\n",
    "\n",
    "# Using trained SMV model to predict outcome\n",
    "y_pred_test = best_clf.predict(test_dataset_log)"
   ]
  },
  {
   "cell_type": "code",
   "execution_count": 16,
   "id": "ef4be008-7b97-47ae-b89e-359aa1e84678",
   "metadata": {},
   "outputs": [
    {
     "data": {
      "text/plain": [
       "(0.8514219028315214, 0.7102858826996759, 0.6266250650026001, 0.665837822903716)"
      ]
     },
     "execution_count": 16,
     "metadata": {},
     "output_type": "execute_result"
    }
   ],
   "source": [
    "# Evaluate the model\n",
    "accuracy = accuracy_score(test_dataset_result, y_pred_test)\n",
    "precision = precision_score(test_dataset_result, y_pred_test)\n",
    "recall = recall_score(test_dataset_result, y_pred_test)\n",
    "f1 = f1_score(test_dataset_result, y_pred_test)\n",
    "\n",
    "accuracy, precision, recall, f1"
   ]
  },
  {
   "cell_type": "code",
   "execution_count": null,
   "id": "0131c407-bb74-4790-8162-38c55ce8928b",
   "metadata": {},
   "outputs": [],
   "source": []
  },
  {
   "cell_type": "code",
   "execution_count": null,
   "id": "506b1cf1-938f-413e-ac38-f775503043ff",
   "metadata": {},
   "outputs": [],
   "source": []
  }
 ],
 "metadata": {
  "kernelspec": {
   "display_name": "Python 3 (ipykernel)",
   "language": "python",
   "name": "python3"
  },
  "language_info": {
   "codemirror_mode": {
    "name": "ipython",
    "version": 3
   },
   "file_extension": ".py",
   "mimetype": "text/x-python",
   "name": "python",
   "nbconvert_exporter": "python",
   "pygments_lexer": "ipython3",
   "version": "3.11.7"
  }
 },
 "nbformat": 4,
 "nbformat_minor": 5
}
