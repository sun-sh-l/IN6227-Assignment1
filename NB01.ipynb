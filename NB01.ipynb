{
 "cells": [
  {
   "cell_type": "markdown",
   "id": "974d576e-807b-4426-8809-700a639879a2",
   "metadata": {},
   "source": [
    "Naive Bayes\n",
    "====\n"
   ]
  },
  {
   "cell_type": "code",
   "execution_count": 1,
   "id": "1ae65040-2adc-4744-b275-65335f79e10d",
   "metadata": {},
   "outputs": [
    {
     "name": "stdout",
     "output_type": "stream",
     "text": [
      "       age         workclass  fnlwgt   education  education-num  \\\n",
      "0       39         State-gov   77516   Bachelors             13   \n",
      "1       50  Self-emp-not-inc   83311   Bachelors             13   \n",
      "2       38           Private  215646     HS-grad              9   \n",
      "3       53           Private  234721        11th              7   \n",
      "4       28           Private  338409   Bachelors             13   \n",
      "...    ...               ...     ...         ...            ...   \n",
      "32556   27           Private  257302  Assoc-acdm             12   \n",
      "32557   40           Private  154374     HS-grad              9   \n",
      "32558   58           Private  151910     HS-grad              9   \n",
      "32559   22           Private  201490     HS-grad              9   \n",
      "32560   52      Self-emp-inc  287927     HS-grad              9   \n",
      "\n",
      "           marital-status         occupation   relationship   race     sex  \\\n",
      "0           Never-married       Adm-clerical  Not-in-family  White    Male   \n",
      "1      Married-civ-spouse    Exec-managerial        Husband  White    Male   \n",
      "2                Divorced  Handlers-cleaners  Not-in-family  White    Male   \n",
      "3      Married-civ-spouse  Handlers-cleaners        Husband  Black    Male   \n",
      "4      Married-civ-spouse     Prof-specialty           Wife  Black  Female   \n",
      "...                   ...                ...            ...    ...     ...   \n",
      "32556  Married-civ-spouse       Tech-support           Wife  White  Female   \n",
      "32557  Married-civ-spouse  Machine-op-inspct        Husband  White    Male   \n",
      "32558             Widowed       Adm-clerical      Unmarried  White  Female   \n",
      "32559       Never-married       Adm-clerical      Own-child  White    Male   \n",
      "32560  Married-civ-spouse    Exec-managerial           Wife  White  Female   \n",
      "\n",
      "       capital-gain  capital-loss  hours-per-week native-country  label  \n",
      "0              2174             0              40  United-States  <=50K  \n",
      "1                 0             0              13  United-States  <=50K  \n",
      "2                 0             0              40  United-States  <=50K  \n",
      "3                 0             0              40  United-States  <=50K  \n",
      "4                 0             0              40           Cuba  <=50K  \n",
      "...             ...           ...             ...            ...    ...  \n",
      "32556             0             0              38  United-States  <=50K  \n",
      "32557             0             0              40  United-States   >50K  \n",
      "32558             0             0              40  United-States  <=50K  \n",
      "32559             0             0              20  United-States  <=50K  \n",
      "32560         15024             0              40  United-States   >50K  \n",
      "\n",
      "[32561 rows x 15 columns]\n"
     ]
    }
   ],
   "source": [
    "# Import libraries\n",
    "import pandas as pd\n",
    "import numpy as np\n",
    "import scipy.stats as stats\n",
    "\n",
    "import time\n",
    "import memory_profiler\n",
    "\n",
    "from sklearn.preprocessing import LabelEncoder, StandardScaler\n",
    "from sklearn.model_selection import train_test_split, GridSearchCV, RepeatedStratifiedKFold\n",
    "from sklearn.naive_bayes import GaussianNB\n",
    "from sklearn.metrics import accuracy_score, precision_score, recall_score, f1_score, classification_report, confusion_matrix\n",
    "\n",
    "# open dataset and adding header \n",
    "headerList = ['age', 'workclass', 'fnlwgt', 'education', 'education-num' , 'marital-status','occupation', 'relationship' , 'race', 'sex', 'capital-gain', 'capital-loss', 'hours-per-week', 'native-country','label' ] \n",
    "\n",
    "data=pd.read_csv('adult.data',names=headerList,sep=',',skipinitialspace=True)\n",
    "print(data)"
   ]
  },
  {
   "cell_type": "code",
   "execution_count": null,
   "id": "7b90d833-f86b-47ba-bab0-81c0612a68b1",
   "metadata": {},
   "outputs": [],
   "source": []
  },
  {
   "cell_type": "markdown",
   "id": "20bfd394-aff2-4261-8117-4cd83cac368d",
   "metadata": {},
   "source": [
    "#Data preprocessing  \n",
    "======================"
   ]
  },
  {
   "cell_type": "code",
   "execution_count": 2,
   "id": "36355b46-95c2-4610-86c9-abc232b1f205",
   "metadata": {},
   "outputs": [],
   "source": [
    "#Remove duplicate data \n",
    "data = data.drop_duplicates()"
   ]
  },
  {
   "cell_type": "code",
   "execution_count": 3,
   "id": "9398ab21-7402-4013-a836-2de1e8b4530e",
   "metadata": {},
   "outputs": [],
   "source": [
    "#change value '?' to mode value of that column\n",
    "data[data == '?'] = np.nan\n",
    "colWithMissingVal = ['workclass', 'occupation', 'native-country']\n",
    "\n",
    "for column in colWithMissingVal:\n",
    "    data[column].fillna(data[column].mode()[0], inplace=True)"
   ]
  },
  {
   "cell_type": "code",
   "execution_count": 4,
   "id": "99aae4e3-e274-41ce-8b5d-452d2387db21",
   "metadata": {},
   "outputs": [
    {
     "name": "stdout",
     "output_type": "stream",
     "text": [
      "74.0\n"
     ]
    }
   ],
   "source": [
    "#Cap outliers : cap age to 99 percentile\n",
    "p_age = np.percentile(data['age'], 99)\n",
    "print(p_age)\n",
    "\n",
    "data['age'] = np.where(data['age'] > np.percentile(data['age'], 99), np.percentile(data['age'], 99), data['age'])"
   ]
  },
  {
   "cell_type": "code",
   "execution_count": 5,
   "id": "04689264-789b-4edb-8dc5-85762adaab9d",
   "metadata": {},
   "outputs": [],
   "source": [
    "#Trim outliers: for 'education-num' and 'hours-per-week' column: only keep rows in dataframe with all z-scores less than absolute value of 3 \n",
    "\n",
    "data = data[(np.abs(stats.zscore(data['education-num'])) < 3)]\n",
    "data = data[(np.abs(stats.zscore(data['hours-per-week'])) < 3)]"
   ]
  },
  {
   "cell_type": "code",
   "execution_count": 6,
   "id": "4c8f785a-3e7f-4c5b-abb4-c42c09385e30",
   "metadata": {},
   "outputs": [],
   "source": [
    "#Convert label(income) column :'<=50K': 0, '>50K': 1}\n",
    "data['label'] = data['label'].map({'<=50K': 0, '>50K': 1})\n",
    "\n",
    "# Convert age and education.num to integer data type\n",
    "data['age'] = data['age'].astype(int)\n",
    "data['education-num'] = data['education-num'].astype(int)\n",
    "data['hours-per-week'] = data['hours-per-week'].astype(int)"
   ]
  },
  {
   "cell_type": "code",
   "execution_count": 7,
   "id": "dac379b2-e7b8-48b6-acbf-18e214f1afe9",
   "metadata": {},
   "outputs": [],
   "source": [
    "#for categorical Data, use LabelEncoder to transform these non-numerical labels.\n",
    "categoricalData = ['workclass', 'education', 'marital-status', 'occupation', 'relationship', 'race', 'sex', 'native-country']\n",
    "label_encoder = LabelEncoder()\n",
    "for i in categoricalData:\n",
    "    data[i] = label_encoder.fit_transform(data[i])\n",
    "\n",
    "#for continuous attribute: Standardize features by removing the mean and scaling to unit variance\n",
    "scalerData= ['fnlwgt', 'capital-gain', 'capital-loss']\n",
    "scaler = StandardScaler()\n",
    "for i in scalerData:\n",
    "    data[i] = scaler.fit_transform(data[i].values.reshape(-1, 1))"
   ]
  },
  {
   "cell_type": "code",
   "execution_count": 8,
   "id": "b12f7e29-b8bb-49da-991b-b0fe72904e9c",
   "metadata": {},
   "outputs": [
    {
     "name": "stdout",
     "output_type": "stream",
     "text": [
      "age [39 50 38 53 28 37 49 52 31 42 30 23 32 40 34 25 43 54 35 59 56 19 20 45\n",
      " 22 48 21 24 57 44 41 29 18 47 46 36 74 27 33 17 55 61 70 64 66 51 26 58\n",
      " 60 65 62 63 67 72 69 71 68 73]\n",
      "workclass [6 5 3 0 1 4 7 2]\n",
      "fnlwgt [-1.0644036  -1.00937187  0.24733637 ... -1.47702289 -0.99655171\n",
      "  0.64291908]\n",
      "education [ 8 10  1 11  5  6  7  4  9 13 12  3  0  2]\n",
      "education-num [13  9  7 14  5 12 11  4 16 10 15  3  6  8]\n",
      "marital-status [4 2 0 3 5 1 6]\n",
      "occupation [ 0  3  5  9  7 11  2 13  4  6 12 10  1  8]\n",
      "relationship [1 0 5 3 4 2]\n",
      "race [4 2 1 0 3]\n",
      "sex [1 0]\n",
      "capital-gain [ 1.49131647e-01 -1.45993581e-01  1.76594005e+00  5.56931180e-01\n",
      "  5.34532071e-01  1.80761904e-01  1.80123561e+00  1.89354709e+00\n",
      "  8.97669139e-01  4.48247682e+00  4.05703258e-01  4.49415458e-01\n",
      "  8.44725791e-01  4.52812336e-02  3.52759909e-01 -2.77503622e-03\n",
      "  3.24251953e-01  1.32298378e-01  1.49403152e-01 -6.53567888e-02\n",
      "  2.57597328e+00  7.83773064e-01  4.10726088e-01  4.82708556e-03\n",
      "  1.02337565e+00  3.17057087e-01  2.06554817e-01  3.27984830e+00\n",
      "  4.85254032e-01  1.12817633e+00  1.88364026e-01  2.75245418e-01\n",
      "  1.29365823e+00  2.56375865e-01  3.05382400e-01  2.04247030e-01\n",
      "  3.25202218e-01  5.14440750e-01  1.34290881e+01  7.38296086e-01\n",
      "  5.36978685e-02  1.70173234e-01  1.39764747e-01  2.45651444e-01\n",
      "  3.26464406e+00  1.28211930e+00  1.52932708e-01  2.55968609e-01\n",
      "  3.63171794e+00  7.72641386e-01  1.56462265e-01  5.84491946e-02\n",
      "  1.69344839e+00  2.11713400e-01  6.08245502e-01  5.03852080e-01\n",
      "  3.67285392e-01  2.79860992e-01  3.72308223e-01  3.89141492e-01\n",
      " -2.19160929e-02 -9.15569585e-02  2.38049322e-01  2.58140644e-01\n",
      "  5.23807650e-01  1.33927404e-01  1.73567039e-01  5.94534533e-01\n",
      "  1.89300408e+00  4.73175163e-02  2.98323287e-01  2.84598435e+00\n",
      "  4.53488023e-01  3.84525918e-01  1.28836390e+00 -1.14631754e-02\n",
      "  1.43328119e-03  8.62645078e-01  7.35988299e-01 -1.30517833e-01\n",
      "  9.25905591e-01  1.72481021e-01  3.18007353e-01  3.19907883e-01\n",
      "  2.48637991e-01  1.02571726e-02  1.81712169e-01  1.64878900e-01\n",
      "  2.00309910e+00  4.65977223e-01  1.98545439e-01  3.23165935e-01\n",
      "  7.25263877e-01  1.04876438e-01  3.81675123e-01  6.30644611e-01\n",
      "  1.15206871e+00  5.15258337e-02  1.30397847e-01  1.02568651e-01\n",
      "  1.43932032e+00  2.52574804e-01  2.60312678e-01  8.64409856e-01\n",
      "  7.17390251e-01  9.79530774e-02  1.32437204e-02  4.90276862e-01\n",
      "  7.66668290e-01  1.26732538e-01  6.81687429e-01  2.14156939e-01\n",
      "  7.65042338e-02  2.36284236e+00  5.46192876e+00  9.37037270e-01\n",
      "  1.78046861e-01  5.40912424e-01]\n",
      "capital-loss [-0.21688091  4.85081872  3.27739974  4.50337605  3.68688575  4.46615005\n",
      "  4.04921883  4.15593337  3.66455015  5.1908162   4.69695125  4.68950605\n",
      "  4.43885098  3.10864187  5.257823    4.10381697  3.46849321  5.58789355\n",
      "  5.77650529  3.2079112   4.0541823   4.87315433  5.68219942  3.92513216\n",
      "  5.62015608  3.93257736  1.40369101  5.71942542  3.51564615  4.74906765\n",
      "  3.72907522  3.88046096  3.82338109  4.36936244  4.10133523  4.75154939\n",
      "  3.70177615  5.38687314  3.75885602  6.1040941   5.17840754  5.25534127\n",
      "  4.06659097  5.84847556  2.60733172  5.33723847  1.33420247  0.31172831\n",
      "  4.28994697  3.60250682  1.96704449  3.92265043  2.49317198  3.73900215\n",
      "  7.23824627  5.31986634  4.35943551  1.79332316  6.79153426  6.1338749\n",
      "  4.88804473  4.68206085  2.20032744  5.1163642   4.31228257  2.90513973\n",
      "  5.06672953  6.24307117  5.44643474  0.58471898 10.59354985  5.35709234\n",
      "  3.79608202  3.87301576  4.08892657  5.96015356  9.13925407  4.13856123\n",
      "  8.92334326  5.40920874  4.94512459  5.88073809  0.82296539  0.16778777\n",
      "  9.46187941  5.24541434  5.90555543  5.15110847  6.61781292  5.91796409\n",
      "  3.28484494]\n",
      "hours-per-week [40 13 16 45 50 30 35 60 20 52 44 15 25 38 43 55 48 58 32 70 22 56 41 28\n",
      " 36 24 46 42 12 65 10 34 75 33 54  8  6 64 19 18 72  5  9 47 37 21 26 14\n",
      "  4 59  7 53 39 62 57 66 11 49 17 68 27 31 51 77 63 23 73 29 67 76 61 74]\n",
      "native-country [38  4 22 18 25 34 32 15  8  1 10 19 29 21 30  3  0 36  6 24 35 13 31  5\n",
      "  7  9 12  2 23 40 28 27 33 37 11 26 39 16 20 17 14]\n",
      "label [0 1]\n"
     ]
    }
   ],
   "source": [
    "headerList = ['age', 'workclass', 'fnlwgt', 'education', 'education-num' , 'marital-status','occupation', 'relationship' , 'race', 'sex', 'capital-gain', 'capital-loss', 'hours-per-week', 'native-country','label' ] \n",
    "\n",
    "for i in range(0, len(headerList)): \n",
    "    print( headerList[i], data[headerList[i]].unique() )"
   ]
  },
  {
   "cell_type": "code",
   "execution_count": 9,
   "id": "1b4e5246-ec24-4b5d-af64-1b85e9c0ef0d",
   "metadata": {},
   "outputs": [],
   "source": [
    "# Separate features (X) and target variable (y)\n",
    "X = data.drop(['label'] , axis=1)\n",
    "y = data['label']\n",
    "\n",
    "# Split the data into training and testing sets\n",
    "X_train, X_test, y_train, y_test = train_test_split(X, y, test_size=0.2, random_state=42)"
   ]
  },
  {
   "cell_type": "code",
   "execution_count": null,
   "id": "dd36a55e-edaf-4865-8fe3-2c9e6f347172",
   "metadata": {},
   "outputs": [],
   "source": []
  },
  {
   "cell_type": "markdown",
   "id": "8b2df440-3eb7-4058-b042-951e331a2cbb",
   "metadata": {},
   "source": [
    "#Building Naive Bayes Classifier\n",
    "=="
   ]
  },
  {
   "cell_type": "code",
   "execution_count": 10,
   "id": "7a75b1db-2391-48ee-a434-2b210aa48d04",
   "metadata": {},
   "outputs": [
    {
     "name": "stdout",
     "output_type": "stream",
     "text": [
      "peak memory: 173.81 MiB, increment: 0.07 MiB\n",
      "peak memory: 173.82 MiB, increment: 0.00 MiB\n",
      "Fitting 15 folds for each of 100 candidates, totalling 1500 fits\n",
      "peak memory: 183.88 MiB, increment: 10.06 MiB\n",
      "peak memory: 176.69 MiB, increment: 0.01 MiB\n",
      "peak memory: 176.69 MiB, increment: 0.00 MiB\n",
      "=======================================================================================\n",
      "Total time taken to tune the hyperparameter: 21.661 seconds\n",
      "Total time taken to train the model: 1.916 seconds\n",
      "Total time taken to build the Naive Bayes model: 23.577 seconds\n",
      "Hyperparameter used: {'var_smoothing': 0.0006579332246575676}\n"
     ]
    }
   ],
   "source": [
    "# Create a Naive Bayes Classifier with hyperparameter tuning\n",
    "\n",
    "#load memory_profiler to calculate memory usage\n",
    "%load_ext memory_profiler  \n",
    "#%reload_ext memory_profiler\n",
    "\n",
    "#state Cross-validation methods\n",
    "cv_method = RepeatedStratifiedKFold(n_splits=5, \n",
    "                                    n_repeats=3, \n",
    "                                    random_state=999)\n",
    "\n",
    "#state range of 'var_smoothing' for testing\n",
    "params_NB = {'var_smoothing': np.logspace(0,-9, num=100)}\n",
    "\n",
    "#=======================================================================================\n",
    "\n",
    "#record start time\n",
    "start_time = time.time()\n",
    "\n",
    "%memit nb_classifier = GaussianNB()\n",
    "%memit nbModel_grid = GridSearchCV(estimator=nb_classifier, param_grid=params_NB, cv=cv_method, verbose=1, scoring='accuracy') \n",
    "%memit nbModel_grid.fit(X_train, y_train)\n",
    "\n",
    "#time taken performing tuning\n",
    "tuning_time = time.time()\n",
    "\n",
    "%memit best_nb = nbModel_grid.best_estimator_\n",
    "%memit best_nb.fit(X_train, y_train)\n",
    "\n",
    "#record end time\n",
    "end_time = time.time()\n",
    "\n",
    "#=======================================================================================\n",
    "\n",
    "total_tuning_time = tuning_time - start_time #Calculate time for hyperparameter tuning\n",
    "model_training_time = end_time - tuning_time #Calculate time for train the model \n",
    "total_time = end_time - start_time  # Calculate total time\n",
    "\n",
    "print('=======================================================================================')\n",
    "print(\"Total time taken to tune the hyperparameter: {:0.3f} seconds\".format(total_tuning_time))\n",
    "print(\"Total time taken to train the model: {:0.3f} seconds\".format(model_training_time))\n",
    "print(\"Total time taken to build the Naive Bayes model: {:0.3f} seconds\".format(total_time))\n",
    "\n",
    "print(\"Hyperparameter used: {}\".format(nbModel_grid.best_params_))\n"
   ]
  },
  {
   "cell_type": "code",
   "execution_count": null,
   "id": "91ab76ee-9835-4f2b-896b-be6bf7d24528",
   "metadata": {},
   "outputs": [],
   "source": []
  },
  {
   "cell_type": "code",
   "execution_count": 11,
   "id": "6e35f11a-95fd-4a23-8db0-303ecc17d7b0",
   "metadata": {},
   "outputs": [
    {
     "data": {
      "text/plain": [
       "(0.818880351262349,\n",
       " 0.7388059701492538,\n",
       " 0.38596491228070173,\n",
       " 0.5070422535211266)"
      ]
     },
     "execution_count": 11,
     "metadata": {},
     "output_type": "execute_result"
    }
   ],
   "source": [
    "y_pred = best_nb.predict(X_test)\n",
    "\n",
    "# Evaluate the model\n",
    "accuracy = accuracy_score(y_test, y_pred)\n",
    "precision = precision_score(y_test, y_pred)\n",
    "recall = recall_score(y_test, y_pred)\n",
    "f1 = f1_score(y_test, y_pred)\n",
    "\n",
    "accuracy, precision, recall, f1"
   ]
  },
  {
   "cell_type": "code",
   "execution_count": 12,
   "id": "e558804f-e3bc-4fcd-b933-8b1557de57f1",
   "metadata": {},
   "outputs": [
    {
     "name": "stdout",
     "output_type": "stream",
     "text": [
      "Classification Report:\n",
      "              precision    recall  f1-score   support\n",
      "\n",
      "           0       0.83      0.96      0.89      4838\n",
      "           1       0.74      0.39      0.51      1539\n",
      "\n",
      "    accuracy                           0.82      6377\n",
      "   macro avg       0.78      0.67      0.70      6377\n",
      "weighted avg       0.81      0.82      0.80      6377\n",
      "\n"
     ]
    }
   ],
   "source": [
    "# Print classification report and confusion matrix\n",
    "print(\"Classification Report:\")\n",
    "print(classification_report(y_test, y_pred))"
   ]
  },
  {
   "cell_type": "code",
   "execution_count": null,
   "id": "95f71761-240b-4162-a0c9-6e65fa0fefa8",
   "metadata": {},
   "outputs": [],
   "source": []
  },
  {
   "cell_type": "markdown",
   "id": "09834ab6-f879-4232-803c-a1d2d6c478a2",
   "metadata": {},
   "source": [
    "#Test using adult.test dataset\n",
    "="
   ]
  },
  {
   "cell_type": "code",
   "execution_count": 13,
   "id": "de4a7d11-bed9-4e75-a153-bfb988d6aabd",
   "metadata": {},
   "outputs": [
    {
     "name": "stdout",
     "output_type": "stream",
     "text": [
      "                    age  workclass    fnlwgt     education  education-num  \\\n",
      "0  |1x3 Cross validator        NaN       NaN           NaN            NaN   \n",
      "1                    25    Private  226802.0          11th            7.0   \n",
      "2                    38    Private   89814.0       HS-grad            9.0   \n",
      "3                    28  Local-gov  336951.0    Assoc-acdm           12.0   \n",
      "4                    44    Private  160323.0  Some-college           10.0   \n",
      "\n",
      "       marital-status         occupation relationship   race   sex  \\\n",
      "0                 NaN                NaN          NaN    NaN   NaN   \n",
      "1       Never-married  Machine-op-inspct    Own-child  Black  Male   \n",
      "2  Married-civ-spouse    Farming-fishing      Husband  White  Male   \n",
      "3  Married-civ-spouse    Protective-serv      Husband  White  Male   \n",
      "4  Married-civ-spouse  Machine-op-inspct      Husband  Black  Male   \n",
      "\n",
      "   capital-gain  capital-loss  hours-per-week native-country   label  \n",
      "0           NaN           NaN             NaN            NaN     NaN  \n",
      "1           0.0           0.0            40.0  United-States  <=50K.  \n",
      "2           0.0           0.0            50.0  United-States  <=50K.  \n",
      "3           0.0           0.0            40.0  United-States   >50K.  \n",
      "4        7688.0           0.0            40.0  United-States   >50K.  \n",
      "  age  workclass    fnlwgt     education  education-num      marital-status  \\\n",
      "1  25    Private  226802.0          11th            7.0       Never-married   \n",
      "2  38    Private   89814.0       HS-grad            9.0  Married-civ-spouse   \n",
      "3  28  Local-gov  336951.0    Assoc-acdm           12.0  Married-civ-spouse   \n",
      "4  44    Private  160323.0  Some-college           10.0  Married-civ-spouse   \n",
      "5  18          ?  103497.0  Some-college           10.0       Never-married   \n",
      "\n",
      "          occupation relationship   race     sex  capital-gain  capital-loss  \\\n",
      "1  Machine-op-inspct    Own-child  Black    Male           0.0           0.0   \n",
      "2    Farming-fishing      Husband  White    Male           0.0           0.0   \n",
      "3    Protective-serv      Husband  White    Male           0.0           0.0   \n",
      "4  Machine-op-inspct      Husband  Black    Male        7688.0           0.0   \n",
      "5                  ?    Own-child  White  Female           0.0           0.0   \n",
      "\n",
      "   hours-per-week native-country   label  \n",
      "1            40.0  United-States  <=50K.  \n",
      "2            50.0  United-States  <=50K.  \n",
      "3            40.0  United-States   >50K.  \n",
      "4            40.0  United-States   >50K.  \n",
      "5            30.0  United-States  <=50K.  \n"
     ]
    }
   ],
   "source": [
    "testData=pd.read_csv('adult.test',names=headerList,sep=',',skipinitialspace=True)\n",
    "#testData.info()\n",
    "print(testData.head())\n",
    "\n",
    "#remove 1st row\n",
    "testData = testData.iloc[1: , :]\n",
    "print(testData.head())"
   ]
  },
  {
   "cell_type": "code",
   "execution_count": 14,
   "id": "b1656e54-2bf4-483e-a648-147b2404a450",
   "metadata": {},
   "outputs": [],
   "source": [
    "#Convert 'label' column\n",
    "testData['label'] = testData['label'].map({'<=50K.': 0, '>50K.': 1})\n",
    "\n",
    "# Convert age and education.num to integer data type\n",
    "testData['age'] = testData['age'].astype(int)\n",
    "testData['education-num'] = testData['education-num'].astype(int)\n",
    "testData['hours-per-week'] = testData['hours-per-week'].astype(int)"
   ]
  },
  {
   "cell_type": "code",
   "execution_count": 15,
   "id": "4bec3de5-c8bb-498e-a745-c942fb2393d8",
   "metadata": {},
   "outputs": [],
   "source": [
    "categoricalData = ['workclass', 'education', 'marital-status', 'occupation', 'relationship', 'race', 'sex', 'native-country']\n",
    "label_encoder = LabelEncoder()\n",
    "\n",
    "for i in categoricalData:\n",
    "    testData[i] = label_encoder.fit_transform(testData[i])\n",
    "\n",
    "scalerData= ['fnlwgt', 'capital-gain', 'capital-loss']\n",
    "scaler = StandardScaler()\n",
    "for i in scalerData:\n",
    "    testData[i] = scaler.fit_transform(testData[i].values.reshape(-1, 1))\n",
    "\n",
    "#print(testData)"
   ]
  },
  {
   "cell_type": "code",
   "execution_count": 16,
   "id": "9d71e38e-9eb5-4442-b8d3-9f6d9e13f76f",
   "metadata": {},
   "outputs": [],
   "source": [
    "# Select features of test set\n",
    "test_dataset_log = testData.drop(['label'], axis=1)\n",
    "test_dataset_result = testData['label']\n",
    "\n",
    "# Using trained SMV model to predict outcome\n",
    "y_pred_test = best_nb.predict(test_dataset_log)"
   ]
  },
  {
   "cell_type": "code",
   "execution_count": 17,
   "id": "675b6cba-21f6-40eb-a689-6167dd642414",
   "metadata": {},
   "outputs": [
    {
     "data": {
      "text/plain": [
       "(0.8220011055831952,\n",
       " 0.7073490813648294,\n",
       " 0.4204368174726989,\n",
       " 0.5273972602739726)"
      ]
     },
     "execution_count": 17,
     "metadata": {},
     "output_type": "execute_result"
    }
   ],
   "source": [
    "# Evaluate the model\n",
    "accuracy = accuracy_score(test_dataset_result, y_pred_test)\n",
    "precision = precision_score(test_dataset_result, y_pred_test)\n",
    "recall = recall_score(test_dataset_result, y_pred_test)\n",
    "f1 = f1_score(test_dataset_result, y_pred_test)\n",
    "\n",
    "accuracy, precision, recall, f1"
   ]
  },
  {
   "cell_type": "code",
   "execution_count": null,
   "id": "da8963e9-dc35-4bcd-a560-134aea4d006b",
   "metadata": {},
   "outputs": [],
   "source": []
  },
  {
   "cell_type": "code",
   "execution_count": null,
   "id": "1f4805a8-7f92-41ea-8ae9-74077f112500",
   "metadata": {},
   "outputs": [],
   "source": []
  }
 ],
 "metadata": {
  "kernelspec": {
   "display_name": "Python 3 (ipykernel)",
   "language": "python",
   "name": "python3"
  },
  "language_info": {
   "codemirror_mode": {
    "name": "ipython",
    "version": 3
   },
   "file_extension": ".py",
   "mimetype": "text/x-python",
   "name": "python",
   "nbconvert_exporter": "python",
   "pygments_lexer": "ipython3",
   "version": "3.11.7"
  }
 },
 "nbformat": 4,
 "nbformat_minor": 5
}
